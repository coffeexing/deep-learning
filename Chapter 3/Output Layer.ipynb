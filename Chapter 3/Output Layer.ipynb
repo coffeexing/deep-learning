{
 "cells": [
  {
   "cell_type": "markdown",
   "source": [
    "Softmax function"
   ],
   "metadata": {
    "collapsed": false
   },
   "id": "749b471443ec59b6"
  },
  {
   "cell_type": "code",
   "execution_count": 1,
   "outputs": [],
   "source": [
    "import numpy as np"
   ],
   "metadata": {
    "collapsed": false,
    "ExecuteTime": {
     "end_time": "2025-05-29T13:43:16.906291100Z",
     "start_time": "2025-05-29T13:43:16.599755700Z"
    }
   },
   "id": "2e84960071c9726b"
  },
  {
   "cell_type": "code",
   "execution_count": 2,
   "outputs": [
    {
     "name": "stdout",
     "output_type": "stream",
     "text": [
      "[ 1.34985881 18.17414537 54.59815003]\n"
     ]
    }
   ],
   "source": [
    "a = np.array([0.3, 2.9, 4.0])\n",
    "exp_a = np.exp(a)\n",
    "print(exp_a)"
   ],
   "metadata": {
    "collapsed": false,
    "ExecuteTime": {
     "end_time": "2025-05-29T13:43:26.830211200Z",
     "start_time": "2025-05-29T13:43:26.792686600Z"
    }
   },
   "id": "2b306bfc2d5a86c7"
  },
  {
   "cell_type": "code",
   "execution_count": 3,
   "outputs": [
    {
     "name": "stdout",
     "output_type": "stream",
     "text": [
      "74.1221542101633\n"
     ]
    }
   ],
   "source": [
    "sum_exp_a = np.sum(exp_a)\n",
    "print(sum_exp_a)"
   ],
   "metadata": {
    "collapsed": false,
    "ExecuteTime": {
     "end_time": "2025-05-29T13:43:52.670019600Z",
     "start_time": "2025-05-29T13:43:52.564041100Z"
    }
   },
   "id": "af82a8ed567392db"
  },
  {
   "cell_type": "code",
   "execution_count": 4,
   "outputs": [
    {
     "name": "stdout",
     "output_type": "stream",
     "text": [
      "[0.01821127 0.24519181 0.73659691]\n"
     ]
    }
   ],
   "source": [
    "y = exp_a / sum_exp_a\n",
    "print(y)"
   ],
   "metadata": {
    "collapsed": false,
    "ExecuteTime": {
     "end_time": "2025-05-29T13:44:09.587895400Z",
     "start_time": "2025-05-29T13:44:09.533322500Z"
    }
   },
   "id": "29e9c53e252b2b93"
  },
  {
   "cell_type": "code",
   "execution_count": 5,
   "outputs": [
    {
     "name": "stdout",
     "output_type": "stream",
     "text": [
      "[0.01821127 0.24519181 0.73659691]\n"
     ]
    }
   ],
   "source": [
    "def softmax(a):\n",
    "    exp_a = np.exp(a)\n",
    "    sum_exp_a = np.sum(exp_a)\n",
    "    y = exp_a / sum_exp_a\n",
    "    \n",
    "    return y\n",
    "\n",
    "print(softmax(a))"
   ],
   "metadata": {
    "collapsed": false,
    "ExecuteTime": {
     "end_time": "2025-05-29T13:46:17.908348700Z",
     "start_time": "2025-05-29T13:46:17.883051300Z"
    }
   },
   "id": "4ddb8f03a08cd20e"
  },
  {
   "cell_type": "markdown",
   "source": [
    "Enhanced softmax function"
   ],
   "metadata": {
    "collapsed": false
   },
   "id": "9062703c24431307"
  },
  {
   "cell_type": "code",
   "execution_count": 8,
   "outputs": [
    {
     "name": "stdout",
     "output_type": "stream",
     "text": [
      "[nan nan nan]\n",
      "[nan nan nan]\n"
     ]
    },
    {
     "name": "stderr",
     "output_type": "stream",
     "text": [
      "C:\\Users\\xingc\\AppData\\Local\\Temp\\ipykernel_15352\\4279793493.py:2: RuntimeWarning: overflow encountered in exp\n",
      "  exp_a = np.exp(a)\n",
      "C:\\Users\\xingc\\AppData\\Local\\Temp\\ipykernel_15352\\4279793493.py:4: RuntimeWarning: invalid value encountered in divide\n",
      "  y = exp_a / sum_exp_a\n",
      "C:\\Users\\xingc\\AppData\\Local\\Temp\\ipykernel_15352\\1771570435.py:4: RuntimeWarning: overflow encountered in exp\n",
      "  print(np.exp(a) / np.sum(np.exp(a)))\n"
     ]
    }
   ],
   "source": [
    "a = np.array([1010, 1000, 990])\n",
    "\n",
    "print(softmax(a))\n",
    "print(np.exp(a) / np.sum(np.exp(a)))"
   ],
   "metadata": {
    "collapsed": false,
    "ExecuteTime": {
     "end_time": "2025-05-29T13:50:04.865114800Z",
     "start_time": "2025-05-29T13:50:04.816888200Z"
    }
   },
   "id": "c16dca341f33cea"
  },
  {
   "cell_type": "code",
   "execution_count": 9,
   "outputs": [
    {
     "name": "stdout",
     "output_type": "stream",
     "text": [
      "[  0 -10 -20]\n",
      "[9.99954600e-01 4.53978686e-05 2.06106005e-09]\n"
     ]
    }
   ],
   "source": [
    "c = np.max(a)\n",
    "print(a - c)\n",
    "print(np.exp(a - c) / np.sum(np.exp(a - c)))"
   ],
   "metadata": {
    "collapsed": false,
    "ExecuteTime": {
     "end_time": "2025-05-29T13:52:14.559728100Z",
     "start_time": "2025-05-29T13:52:14.511964200Z"
    }
   },
   "id": "fb3658a0241a6ca4"
  },
  {
   "cell_type": "code",
   "execution_count": 10,
   "outputs": [
    {
     "name": "stdout",
     "output_type": "stream",
     "text": [
      "[9.99954600e-01 4.53978686e-05 2.06106005e-09]\n"
     ]
    }
   ],
   "source": [
    "def softmax(a):\n",
    "    c = np.max(a)\n",
    "    exp_a = np.exp(a - c)\n",
    "    sum_exp_a = np.sum(exp_a)\n",
    "    y = exp_a / sum_exp_a\n",
    "    \n",
    "    return y\n",
    "\n",
    "print(softmax(a))"
   ],
   "metadata": {
    "collapsed": false,
    "ExecuteTime": {
     "end_time": "2025-05-29T13:53:04.628703800Z",
     "start_time": "2025-05-29T13:53:04.558650100Z"
    }
   },
   "id": "84503242407c9129"
  },
  {
   "cell_type": "code",
   "execution_count": 11,
   "outputs": [
    {
     "name": "stdout",
     "output_type": "stream",
     "text": [
      "[0.01821127 0.24519181 0.73659691]\n",
      "1.0\n"
     ]
    }
   ],
   "source": [
    "a = np.array([0.3, 2.9, 4.0])\n",
    "y = softmax(a)\n",
    "print(y)\n",
    "print(np.sum(y))"
   ],
   "metadata": {
    "collapsed": false,
    "ExecuteTime": {
     "end_time": "2025-05-29T13:54:02.239716600Z",
     "start_time": "2025-05-29T13:54:02.201866700Z"
    }
   },
   "id": "a467bcbb8b5b1503"
  },
  {
   "cell_type": "code",
   "execution_count": null,
   "outputs": [],
   "source": [],
   "metadata": {
    "collapsed": false
   },
   "id": "31e1cf37bfd09808"
  }
 ],
 "metadata": {
  "kernelspec": {
   "display_name": "Python 3",
   "language": "python",
   "name": "python3"
  },
  "language_info": {
   "codemirror_mode": {
    "name": "ipython",
    "version": 2
   },
   "file_extension": ".py",
   "mimetype": "text/x-python",
   "name": "python",
   "nbconvert_exporter": "python",
   "pygments_lexer": "ipython2",
   "version": "2.7.6"
  }
 },
 "nbformat": 4,
 "nbformat_minor": 5
}
