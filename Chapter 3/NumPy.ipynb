{
 "cells": [
  {
   "cell_type": "code",
   "execution_count": 8,
   "id": "initial_id",
   "metadata": {
    "collapsed": true,
    "ExecuteTime": {
     "end_time": "2025-05-29T12:27:24.964771800Z",
     "start_time": "2025-05-29T12:27:24.688762700Z"
    }
   },
   "outputs": [],
   "source": [
    "import numpy as np"
   ]
  },
  {
   "cell_type": "markdown",
   "source": [
    "Multidimensional array"
   ],
   "metadata": {
    "collapsed": false
   },
   "id": "c9ff9436191a7d51"
  },
  {
   "cell_type": "code",
   "execution_count": 9,
   "outputs": [
    {
     "name": "stdout",
     "output_type": "stream",
     "text": [
      "[1 2 3 4]\n"
     ]
    },
    {
     "data": {
      "text/plain": "array([1, 2, 3, 4])"
     },
     "execution_count": 9,
     "metadata": {},
     "output_type": "execute_result"
    }
   ],
   "source": [
    "A = np.array([1, 2, 3, 4])\n",
    "\n",
    "print(A)\n",
    "A "
   ],
   "metadata": {
    "collapsed": false,
    "ExecuteTime": {
     "end_time": "2025-05-29T12:27:25.101375900Z",
     "start_time": "2025-05-29T12:27:24.974778Z"
    }
   },
   "id": "551a7d2127dfa94a"
  },
  {
   "cell_type": "code",
   "execution_count": 10,
   "outputs": [
    {
     "data": {
      "text/plain": "1"
     },
     "execution_count": 10,
     "metadata": {},
     "output_type": "execute_result"
    }
   ],
   "source": [
    "np.ndim(A)"
   ],
   "metadata": {
    "collapsed": false,
    "ExecuteTime": {
     "end_time": "2025-05-29T12:27:25.130422300Z",
     "start_time": "2025-05-29T12:27:25.009461200Z"
    }
   },
   "id": "9dc1a5bd811131d4"
  },
  {
   "cell_type": "code",
   "execution_count": 11,
   "outputs": [
    {
     "data": {
      "text/plain": "(4,)"
     },
     "execution_count": 11,
     "metadata": {},
     "output_type": "execute_result"
    }
   ],
   "source": [
    "A.shape"
   ],
   "metadata": {
    "collapsed": false,
    "ExecuteTime": {
     "end_time": "2025-05-29T12:27:25.217550900Z",
     "start_time": "2025-05-29T12:27:25.138391900Z"
    }
   },
   "id": "7d5708a62a1eec3c"
  },
  {
   "cell_type": "code",
   "execution_count": 12,
   "outputs": [
    {
     "data": {
      "text/plain": "4"
     },
     "execution_count": 12,
     "metadata": {},
     "output_type": "execute_result"
    }
   ],
   "source": [
    "A.shape[0]"
   ],
   "metadata": {
    "collapsed": false,
    "ExecuteTime": {
     "end_time": "2025-05-29T12:27:25.265094400Z",
     "start_time": "2025-05-29T12:27:25.226555Z"
    }
   },
   "id": "ccde5a23bc02c9f0"
  },
  {
   "cell_type": "code",
   "execution_count": 13,
   "outputs": [
    {
     "name": "stdout",
     "output_type": "stream",
     "text": [
      "[[1 2]\n",
      " [3 4]\n",
      " [5 6]]\n"
     ]
    }
   ],
   "source": [
    "B = np.array([[1, 2], [3, 4], [5, 6]])\n",
    "\n",
    "print(B)"
   ],
   "metadata": {
    "collapsed": false,
    "ExecuteTime": {
     "end_time": "2025-05-29T12:27:25.325578400Z",
     "start_time": "2025-05-29T12:27:25.250692300Z"
    }
   },
   "id": "be3e93f169e7e9e3"
  },
  {
   "cell_type": "code",
   "execution_count": 14,
   "outputs": [
    {
     "data": {
      "text/plain": "2"
     },
     "execution_count": 14,
     "metadata": {},
     "output_type": "execute_result"
    }
   ],
   "source": [
    "np.ndim(B)"
   ],
   "metadata": {
    "collapsed": false,
    "ExecuteTime": {
     "end_time": "2025-05-29T12:27:25.352204Z",
     "start_time": "2025-05-29T12:27:25.275307900Z"
    }
   },
   "id": "de50b5e619eb45d8"
  },
  {
   "cell_type": "code",
   "execution_count": 15,
   "outputs": [
    {
     "data": {
      "text/plain": "(3, 2)"
     },
     "execution_count": 15,
     "metadata": {},
     "output_type": "execute_result"
    }
   ],
   "source": [
    "B.shape"
   ],
   "metadata": {
    "collapsed": false,
    "ExecuteTime": {
     "end_time": "2025-05-29T12:27:25.431178500Z",
     "start_time": "2025-05-29T12:27:25.336582800Z"
    }
   },
   "id": "9c50c532a4ead60c"
  },
  {
   "cell_type": "markdown",
   "source": [
    "Matrix multiplication"
   ],
   "metadata": {
    "collapsed": false
   },
   "id": "bf8ef30be3567798"
  },
  {
   "cell_type": "code",
   "execution_count": 16,
   "outputs": [
    {
     "data": {
      "text/plain": "(2, 2)"
     },
     "execution_count": 16,
     "metadata": {},
     "output_type": "execute_result"
    }
   ],
   "source": [
    "A = np.array([[1, 2], [3, 4]])\n",
    "A.shape"
   ],
   "metadata": {
    "collapsed": false,
    "ExecuteTime": {
     "end_time": "2025-05-29T12:30:57.527920800Z",
     "start_time": "2025-05-29T12:30:57.426689Z"
    }
   },
   "id": "1a3e758f6d0f3150"
  },
  {
   "cell_type": "code",
   "execution_count": 17,
   "outputs": [
    {
     "data": {
      "text/plain": "(2, 2)"
     },
     "execution_count": 17,
     "metadata": {},
     "output_type": "execute_result"
    }
   ],
   "source": [
    "B = np.array([[5, 6], [7, 8]])\n",
    "B.shape"
   ],
   "metadata": {
    "collapsed": false,
    "ExecuteTime": {
     "end_time": "2025-05-29T12:31:46.155629800Z",
     "start_time": "2025-05-29T12:31:46.123874800Z"
    }
   },
   "id": "3d01b6544d7203a0"
  },
  {
   "cell_type": "code",
   "execution_count": 18,
   "outputs": [
    {
     "data": {
      "text/plain": "array([[19, 22],\n       [43, 50]])"
     },
     "execution_count": 18,
     "metadata": {},
     "output_type": "execute_result"
    }
   ],
   "source": [
    "np.dot(A, B)"
   ],
   "metadata": {
    "collapsed": false,
    "ExecuteTime": {
     "end_time": "2025-05-29T12:31:57.078018600Z",
     "start_time": "2025-05-29T12:31:57.028534600Z"
    }
   },
   "id": "a4cb7e4dc0f9360e"
  },
  {
   "cell_type": "code",
   "execution_count": 19,
   "outputs": [
    {
     "data": {
      "text/plain": "(2, 3)"
     },
     "execution_count": 19,
     "metadata": {},
     "output_type": "execute_result"
    }
   ],
   "source": [
    "A = np.array([[1, 2, 3], [4, 5, 6]])\n",
    "A.shape"
   ],
   "metadata": {
    "collapsed": false,
    "ExecuteTime": {
     "end_time": "2025-05-29T12:32:56.389301700Z",
     "start_time": "2025-05-29T12:32:56.355725400Z"
    }
   },
   "id": "1fc10b9ba5be74c8"
  },
  {
   "cell_type": "code",
   "execution_count": 20,
   "outputs": [
    {
     "data": {
      "text/plain": "(3, 2)"
     },
     "execution_count": 20,
     "metadata": {},
     "output_type": "execute_result"
    }
   ],
   "source": [
    "B = np.array([[1, 2], [3, 4], [5, 6]])\n",
    "B.shape"
   ],
   "metadata": {
    "collapsed": false,
    "ExecuteTime": {
     "end_time": "2025-05-29T12:33:17.693200100Z",
     "start_time": "2025-05-29T12:33:17.657632900Z"
    }
   },
   "id": "a5308278ad886b79"
  },
  {
   "cell_type": "code",
   "execution_count": 21,
   "outputs": [
    {
     "data": {
      "text/plain": "array([[22, 28],\n       [49, 64]])"
     },
     "execution_count": 21,
     "metadata": {},
     "output_type": "execute_result"
    }
   ],
   "source": [
    "np.dot(A, B)"
   ],
   "metadata": {
    "collapsed": false,
    "ExecuteTime": {
     "end_time": "2025-05-29T12:33:26.494461200Z",
     "start_time": "2025-05-29T12:33:26.276200800Z"
    }
   },
   "id": "2ca09aea1dea8fec"
  },
  {
   "cell_type": "code",
   "execution_count": 22,
   "outputs": [
    {
     "data": {
      "text/plain": "(2, 2)"
     },
     "execution_count": 22,
     "metadata": {},
     "output_type": "execute_result"
    }
   ],
   "source": [
    "C = np.array([[1, 2], [3, 4]])\n",
    "C.shape"
   ],
   "metadata": {
    "collapsed": false,
    "ExecuteTime": {
     "end_time": "2025-05-29T12:33:55.739341400Z",
     "start_time": "2025-05-29T12:33:55.686285600Z"
    }
   },
   "id": "740de34f27b8b8fe"
  },
  {
   "cell_type": "code",
   "execution_count": 23,
   "outputs": [
    {
     "data": {
      "text/plain": "(2, 3)"
     },
     "execution_count": 23,
     "metadata": {},
     "output_type": "execute_result"
    }
   ],
   "source": [
    "A.shape"
   ],
   "metadata": {
    "collapsed": false,
    "ExecuteTime": {
     "end_time": "2025-05-29T12:34:05.525962300Z",
     "start_time": "2025-05-29T12:34:05.442047900Z"
    }
   },
   "id": "ae940484045723a0"
  },
  {
   "cell_type": "code",
   "execution_count": 24,
   "outputs": [
    {
     "ename": "ValueError",
     "evalue": "shapes (2,3) and (2,2) not aligned: 3 (dim 1) != 2 (dim 0)",
     "output_type": "error",
     "traceback": [
      "\u001B[31m---------------------------------------------------------------------------\u001B[39m",
      "\u001B[31mValueError\u001B[39m                                Traceback (most recent call last)",
      "\u001B[36mCell\u001B[39m\u001B[36m \u001B[39m\u001B[32mIn[24]\u001B[39m\u001B[32m, line 1\u001B[39m\n\u001B[32m----> \u001B[39m\u001B[32m1\u001B[39m np.dot(A, C)\n",
      "\u001B[31mValueError\u001B[39m: shapes (2,3) and (2,2) not aligned: 3 (dim 1) != 2 (dim 0)"
     ]
    }
   ],
   "source": [
    "np.dot(A, C)"
   ],
   "metadata": {
    "collapsed": false,
    "ExecuteTime": {
     "end_time": "2025-05-29T12:34:14.150722200Z",
     "start_time": "2025-05-29T12:34:14.097223800Z"
    }
   },
   "id": "f1f765afb70b0616"
  },
  {
   "cell_type": "code",
   "execution_count": 25,
   "outputs": [
    {
     "data": {
      "text/plain": "(3, 2)"
     },
     "execution_count": 25,
     "metadata": {},
     "output_type": "execute_result"
    }
   ],
   "source": [
    "A = np.array([[1, 2], [3, 4], [5, 6]])\n",
    "A.shape"
   ],
   "metadata": {
    "collapsed": false,
    "ExecuteTime": {
     "end_time": "2025-05-29T12:36:00.360226700Z",
     "start_time": "2025-05-29T12:36:00.307084400Z"
    }
   },
   "id": "6782fbf9d78c9d7c"
  },
  {
   "cell_type": "code",
   "execution_count": 26,
   "outputs": [
    {
     "data": {
      "text/plain": "(2,)"
     },
     "execution_count": 26,
     "metadata": {},
     "output_type": "execute_result"
    }
   ],
   "source": [
    "B = np.array([7, 8])\n",
    "B.shape"
   ],
   "metadata": {
    "collapsed": false,
    "ExecuteTime": {
     "end_time": "2025-05-29T12:36:33.829337100Z",
     "start_time": "2025-05-29T12:36:33.762494600Z"
    }
   },
   "id": "70d6f4e37a8e19b2"
  },
  {
   "cell_type": "code",
   "execution_count": 27,
   "outputs": [
    {
     "data": {
      "text/plain": "array([23, 53, 83])"
     },
     "execution_count": 27,
     "metadata": {},
     "output_type": "execute_result"
    }
   ],
   "source": [
    "np.dot(A, B)"
   ],
   "metadata": {
    "collapsed": false,
    "ExecuteTime": {
     "end_time": "2025-05-29T12:36:40.866376100Z",
     "start_time": "2025-05-29T12:36:40.817871500Z"
    }
   },
   "id": "b836b0216821a74f"
  },
  {
   "cell_type": "markdown",
   "source": [
    "Dot product in Neural Networks"
   ],
   "metadata": {
    "collapsed": false
   },
   "id": "2a902ea7930c4212"
  },
  {
   "cell_type": "code",
   "execution_count": 28,
   "outputs": [
    {
     "data": {
      "text/plain": "(2,)"
     },
     "execution_count": 28,
     "metadata": {},
     "output_type": "execute_result"
    }
   ],
   "source": [
    "X = np.array([1, 2])\n",
    "X.shape"
   ],
   "metadata": {
    "collapsed": false,
    "ExecuteTime": {
     "end_time": "2025-05-29T12:39:03.465880400Z",
     "start_time": "2025-05-29T12:39:03.425745500Z"
    }
   },
   "id": "ceaf2c2a2ac4b133"
  },
  {
   "cell_type": "code",
   "execution_count": 31,
   "outputs": [
    {
     "name": "stdout",
     "output_type": "stream",
     "text": [
      "[[1 3 5]\n",
      " [2 4 6]]\n"
     ]
    },
    {
     "data": {
      "text/plain": "(2, 3)"
     },
     "execution_count": 31,
     "metadata": {},
     "output_type": "execute_result"
    }
   ],
   "source": [
    "W = np.array([[1, 3, 5], [2, 4, 6]])\n",
    "print(W)\n",
    "W.shape"
   ],
   "metadata": {
    "collapsed": false,
    "ExecuteTime": {
     "end_time": "2025-05-29T12:39:58.982757500Z",
     "start_time": "2025-05-29T12:39:58.946710900Z"
    }
   },
   "id": "89ae62b3a95221dc"
  },
  {
   "cell_type": "code",
   "execution_count": 32,
   "outputs": [
    {
     "name": "stdout",
     "output_type": "stream",
     "text": [
      "[ 5 11 17]\n"
     ]
    }
   ],
   "source": [
    "Y = np.dot(X, W)\n",
    "print(Y)"
   ],
   "metadata": {
    "collapsed": false,
    "ExecuteTime": {
     "end_time": "2025-05-29T12:40:26.520499400Z",
     "start_time": "2025-05-29T12:40:26.479998800Z"
    }
   },
   "id": "3901a9cf0c3cecd1"
  },
  {
   "cell_type": "code",
   "execution_count": null,
   "outputs": [],
   "source": [],
   "metadata": {
    "collapsed": false
   },
   "id": "740620ba2c7b52a2"
  }
 ],
 "metadata": {
  "kernelspec": {
   "display_name": "Python 3",
   "language": "python",
   "name": "python3"
  },
  "language_info": {
   "codemirror_mode": {
    "name": "ipython",
    "version": 2
   },
   "file_extension": ".py",
   "mimetype": "text/x-python",
   "name": "python",
   "nbconvert_exporter": "python",
   "pygments_lexer": "ipython2",
   "version": "2.7.6"
  }
 },
 "nbformat": 4,
 "nbformat_minor": 5
}
