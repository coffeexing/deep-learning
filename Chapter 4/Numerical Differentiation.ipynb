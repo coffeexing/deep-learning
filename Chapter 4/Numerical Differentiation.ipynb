{
 "cells": [
  {
   "cell_type": "markdown",
   "source": [
    "# Numerical Differentiation"
   ],
   "metadata": {
    "collapsed": false
   },
   "id": "961b4f7e82fe8825"
  },
  {
   "cell_type": "markdown",
   "source": [
    "Derivative"
   ],
   "metadata": {
    "collapsed": false
   },
   "id": "2cb55adde6b2fde9"
  },
  {
   "cell_type": "code",
   "execution_count": 71,
   "outputs": [],
   "source": [
    "def numerical_diff(f, x):\n",
    "    h = 1e-4\n",
    "    return (f(x + h) - f(x - h)) / (2 * h)"
   ],
   "metadata": {
    "collapsed": false,
    "ExecuteTime": {
     "end_time": "2025-08-26T03:24:36.364170100Z",
     "start_time": "2025-08-26T03:24:36.235566800Z"
    }
   },
   "id": "9928a14c5434eba5"
  },
  {
   "cell_type": "markdown",
   "source": [
    "Example"
   ],
   "metadata": {
    "collapsed": false
   },
   "id": "81baf32688ce628c"
  },
  {
   "cell_type": "code",
   "execution_count": 72,
   "outputs": [],
   "source": [
    "def function_1(x):\n",
    "    return 0.01 * x ** 2 + 0.1 * x"
   ],
   "metadata": {
    "collapsed": false,
    "ExecuteTime": {
     "end_time": "2025-08-26T03:24:36.409114800Z",
     "start_time": "2025-08-26T03:24:36.368163500Z"
    }
   },
   "id": "7d720c4204040db3"
  },
  {
   "cell_type": "code",
   "execution_count": 73,
   "outputs": [
    {
     "data": {
      "text/plain": "<Figure size 640x480 with 1 Axes>",
      "image/png": "[encoded data removed]"
     },
     "metadata": {},
     "output_type": "display_data"
    }
   ],
   "source": [
    "import numpy as np\n",
    "import matplotlib.pyplot as plt\n",
    "\n",
    "x = np.arange(0.0, 20.0, 0.1)\n",
    "y = function_1(x)\n",
    "plt.xlabel(\"x\")\n",
    "plt.ylabel(\"f(x)\")\n",
    "plt.plot(x, y)\n",
    "plt.show()"
   ],
   "metadata": {
    "collapsed": false,
    "ExecuteTime": {
     "end_time": "2025-08-26T03:24:36.634731700Z",
     "start_time": "2025-08-26T03:24:36.414116600Z"
    }
   },
   "id": "7236a9579d80539e"
  },
  {
   "cell_type": "code",
   "execution_count": 74,
   "outputs": [
    {
     "name": "stdout",
     "output_type": "stream",
     "text": [
      "0.1999999999990898\n",
      "0.2999999999986347\n"
     ]
    }
   ],
   "source": [
    "print(numerical_diff(function_1, 5))\n",
    "print(numerical_diff(function_1, 10))"
   ],
   "metadata": {
    "collapsed": false,
    "ExecuteTime": {
     "end_time": "2025-08-26T03:24:36.635733900Z",
     "start_time": "2025-08-26T03:24:36.624898300Z"
    }
   },
   "id": "eed084e1e1081e9e"
  },
  {
   "cell_type": "markdown",
   "source": [
    "Partial Derivatives"
   ],
   "metadata": {
    "collapsed": false
   },
   "id": "4e975bf950355e9a"
  },
  {
   "cell_type": "markdown",
   "source": [
    "$ f({x}_{0},\\, {x}_{1})={x}^{2}_{0}+{x}^{2}_{1} $"
   ],
   "metadata": {
    "collapsed": false
   },
   "id": "56550f5b7f02159"
  },
  {
   "cell_type": "code",
   "execution_count": 75,
   "outputs": [],
   "source": [
    "def function_2(x):\n",
    "    return x[0] ** 2 + x[1] ** 2"
   ],
   "metadata": {
    "collapsed": false,
    "ExecuteTime": {
     "end_time": "2025-08-26T03:24:36.757136Z",
     "start_time": "2025-08-26T03:24:36.628731600Z"
    }
   },
   "id": "407d5bb710b3e2c8"
  },
  {
   "cell_type": "code",
   "execution_count": 76,
   "outputs": [
    {
     "name": "stdout",
     "output_type": "stream",
     "text": [
      "6.00000000000378\n"
     ]
    }
   ],
   "source": [
    "def function_tmp1(x0):\n",
    "    return x0 * x0 + 4.0 ** 2.0\n",
    "\n",
    "print(numerical_diff(function_tmp1, 3.0))"
   ],
   "metadata": {
    "collapsed": false,
    "ExecuteTime": {
     "end_time": "2025-08-26T03:24:36.759134800Z",
     "start_time": "2025-08-26T03:24:36.693144600Z"
    }
   },
   "id": "352d6866bfbbff8"
  },
  {
   "cell_type": "code",
   "execution_count": 77,
   "outputs": [
    {
     "name": "stdout",
     "output_type": "stream",
     "text": [
      "7.999999999999119\n"
     ]
    }
   ],
   "source": [
    "def function_tmp2(x1):\n",
    "    return 3.0 ** 2.0 + x1 * x1\n",
    "\n",
    "print(numerical_diff(function_tmp2, 4.0))"
   ],
   "metadata": {
    "collapsed": false,
    "ExecuteTime": {
     "end_time": "2025-08-26T03:24:36.824927700Z",
     "start_time": "2025-08-26T03:24:36.712668700Z"
    }
   },
   "id": "d7b68425c9e525fb"
  },
  {
   "cell_type": "markdown",
   "source": [
    "Gradient"
   ],
   "metadata": {
    "collapsed": false
   },
   "id": "d4f1617c5ee26058"
  },
  {
   "cell_type": "code",
   "execution_count": 78,
   "outputs": [],
   "source": [
    "def numerical_gradient(f, x):\n",
    "    h = 1e-4\n",
    "    grad = np.zeros_like(x)\n",
    "    \n",
    "    for idx in range(x.size):\n",
    "        tmp_val = x[idx]\n",
    "        \n",
    "        # calc f(x+h)\n",
    "        x[idx] = tmp_val + h\n",
    "        fxh1 = f(x)\n",
    "        \n",
    "        # calc f(x-h)\n",
    "        x[idx] = tmp_val - h\n",
    "        fxh2 = f(x)\n",
    "        \n",
    "        grad[idx] = (fxh1 - fxh2) / (2 * h)\n",
    "        x[idx] = tmp_val\n",
    "    \n",
    "    return grad"
   ],
   "metadata": {
    "collapsed": false,
    "ExecuteTime": {
     "end_time": "2025-08-26T03:24:36.827925100Z",
     "start_time": "2025-08-26T03:24:36.726312500Z"
    }
   },
   "id": "eec33c28a6191d29"
  },
  {
   "cell_type": "code",
   "execution_count": 79,
   "outputs": [
    {
     "name": "stdout",
     "output_type": "stream",
     "text": [
      "[6. 8.]\n",
      "[0. 4.]\n",
      "[6. 0.]\n"
     ]
    }
   ],
   "source": [
    "print(numerical_gradient(function_2, np.array([3.0, 4.0])))\n",
    "print(numerical_gradient(function_2, np.array([0.0, 2.0])))\n",
    "print(numerical_gradient(function_2, np.array([3.0, 0.0])))"
   ],
   "metadata": {
    "collapsed": false,
    "ExecuteTime": {
     "end_time": "2025-08-26T03:24:36.848284200Z",
     "start_time": "2025-08-26T03:24:36.741276100Z"
    }
   },
   "id": "962eede8ed15a32f"
  },
  {
   "cell_type": "markdown",
   "source": [
    "# Gradient Method"
   ],
   "metadata": {
    "collapsed": false
   },
   "id": "9d1e2479c521824"
  },
  {
   "cell_type": "code",
   "execution_count": 80,
   "outputs": [],
   "source": [
    "def gradient_descent(f, init_x, lr=0.01, step_num=100):\n",
    "    x = init_x\n",
    "    \n",
    "    for i in range(step_num):\n",
    "        grad = numerical_gradient(f, x)\n",
    "        x -= lr * grad\n",
    "    \n",
    "    return x"
   ],
   "metadata": {
    "collapsed": false,
    "ExecuteTime": {
     "end_time": "2025-08-26T03:24:36.851293Z",
     "start_time": "2025-08-26T03:24:36.758134700Z"
    }
   },
   "id": "ef60f14cc620ad8"
  },
  {
   "cell_type": "code",
   "execution_count": 86,
   "outputs": [
    {
     "data": {
      "text/plain": "array([-6.11110793e-10,  8.14814391e-10])"
     },
     "execution_count": 86,
     "metadata": {},
     "output_type": "execute_result"
    }
   ],
   "source": [
    "init_x = np.array([-3.0, 4.0])\n",
    "gradient_descent(function_2, init_x=init_x, lr=0.1, step_num=100)"
   ],
   "metadata": {
    "collapsed": false,
    "ExecuteTime": {
     "end_time": "2025-08-26T03:26:06.437420900Z",
     "start_time": "2025-08-26T03:26:06.416852Z"
    }
   },
   "id": "aadafe0a89bc8c2a"
  },
  {
   "cell_type": "code",
   "execution_count": 87,
   "outputs": [
    {
     "data": {
      "text/plain": "array([-2.58983747e+13, -1.29524862e+12])"
     },
     "execution_count": 87,
     "metadata": {},
     "output_type": "execute_result"
    }
   ],
   "source": [
    "# High Learning Rate (lr = 10.0)\n",
    "init_x = np.array([-3.0, 4.0])\n",
    "gradient_descent(function_2, init_x=init_x, lr=10.0, step_num=100)"
   ],
   "metadata": {
    "collapsed": false,
    "ExecuteTime": {
     "end_time": "2025-08-26T03:26:09.585178Z",
     "start_time": "2025-08-26T03:26:09.577267200Z"
    }
   },
   "id": "42c8b9f5e3caf1cc"
  },
  {
   "cell_type": "code",
   "execution_count": 88,
   "outputs": [
    {
     "data": {
      "text/plain": "array([-2.99999994,  3.99999992])"
     },
     "execution_count": 88,
     "metadata": {},
     "output_type": "execute_result"
    }
   ],
   "source": [
    "# Low Learning Rate (lr = 1e-10)\n",
    "init_x = np.array([-3.0, 4.0])\n",
    "gradient_descent(function_2, init_x=init_x, lr=1e-10, step_num=100)"
   ],
   "metadata": {
    "collapsed": false,
    "ExecuteTime": {
     "end_time": "2025-08-26T03:26:10.838477100Z",
     "start_time": "2025-08-26T03:26:10.819045500Z"
    }
   },
   "id": "53ecd4350c35a1b6"
  },
  {
   "cell_type": "code",
   "execution_count": 83,
   "outputs": [],
   "source": [],
   "metadata": {
    "collapsed": false,
    "ExecuteTime": {
     "end_time": "2025-08-26T03:24:36.939287400Z",
     "start_time": "2025-08-26T03:24:36.836273Z"
    }
   },
   "id": "76dc3c131a13cf4c"
  }
 ],
 "metadata": {
  "kernelspec": {
   "display_name": "Python 3",
   "language": "python",
   "name": "python3"
  },
  "language_info": {
   "codemirror_mode": {
    "name": "ipython",
    "version": 2
   },
   "file_extension": ".py",
   "mimetype": "text/x-python",
   "name": "python",
   "nbconvert_exporter": "python",
   "pygments_lexer": "ipython2",
   "version": "2.7.6"
  }
 },
 "nbformat": 4,
 "nbformat_minor": 5
}
