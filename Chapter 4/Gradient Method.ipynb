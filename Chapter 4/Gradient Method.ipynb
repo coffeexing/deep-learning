{
 "cells": [
  {
   "cell_type": "code",
   "execution_count": 42,
   "outputs": [],
   "source": [
    "import numpy as np\n",
    "from Data.common.gradient import numerical_gradient\n",
    "\n",
    "def function_2(x):\n",
    "    return x[0] ** 2 + x[1] ** 2"
   ],
   "metadata": {
    "collapsed": false,
    "ExecuteTime": {
     "end_time": "2025-08-27T01:53:23.055099300Z",
     "start_time": "2025-08-27T01:53:23.050081900Z"
    }
   },
   "id": "4aab2ae7731d5b6a"
  },
  {
   "cell_type": "code",
   "execution_count": 43,
   "id": "4e590bb20bd7c31c",
   "metadata": {
    "collapsed": false,
    "ExecuteTime": {
     "end_time": "2025-08-27T01:53:23.087834200Z",
     "start_time": "2025-08-27T01:53:23.061094600Z"
    }
   },
   "outputs": [],
   "source": [
    "def gradient_descent(f, init_x, lr=0.01, step_num=100):\n",
    "    x = init_x\n",
    "\n",
    "    for i in range(step_num):\n",
    "        grad = numerical_gradient(f, x)\n",
    "        x -= lr * grad\n",
    "\n",
    "    return x"
   ]
  },
  {
   "cell_type": "code",
   "execution_count": 44,
   "outputs": [
    {
     "data": {
      "text/plain": "array([-6.11110793e-10,  8.14814391e-10])"
     },
     "execution_count": 44,
     "metadata": {},
     "output_type": "execute_result"
    }
   ],
   "source": [
    "init_x = np.array([-3.0, 4.0])\n",
    "gradient_descent(function_2, init_x=init_x, lr=0.1, step_num=100)"
   ],
   "metadata": {
    "collapsed": false,
    "ExecuteTime": {
     "end_time": "2025-08-27T01:53:23.132024200Z",
     "start_time": "2025-08-27T01:53:23.072835200Z"
    }
   },
   "id": "ed9aafbbe8637716"
  },
  {
   "cell_type": "code",
   "execution_count": 45,
   "outputs": [
    {
     "data": {
      "text/plain": "array([-2.58983747e+13, -1.29524862e+12])"
     },
     "execution_count": 45,
     "metadata": {},
     "output_type": "execute_result"
    }
   ],
   "source": [
    "# High Learning Rate (lr = 10.0)\n",
    "init_x = np.array([-3.0, 4.0])\n",
    "gradient_descent(function_2, init_x=init_x, lr=10.0, step_num=100)"
   ],
   "metadata": {
    "collapsed": false,
    "ExecuteTime": {
     "end_time": "2025-08-27T01:53:23.179312900Z",
     "start_time": "2025-08-27T01:53:23.136023Z"
    }
   },
   "id": "1179cbd63fbe048f"
  },
  {
   "cell_type": "code",
   "execution_count": 46,
   "outputs": [
    {
     "data": {
      "text/plain": "array([-2.99999994,  3.99999992])"
     },
     "execution_count": 46,
     "metadata": {},
     "output_type": "execute_result"
    }
   ],
   "source": [
    "# Low Learning Rate (lr = 1e-10)\n",
    "init_x = np.array([-3.0, 4.0])\n",
    "gradient_descent(function_2, init_x=init_x, lr=1e-10, step_num=100)"
   ],
   "metadata": {
    "collapsed": false,
    "ExecuteTime": {
     "end_time": "2025-08-27T01:53:23.182308800Z",
     "start_time": "2025-08-27T01:53:23.150436400Z"
    }
   },
   "id": "94a311a537ec0881"
  },
  {
   "cell_type": "markdown",
   "source": [
    "The Gradient of Neural Network"
   ],
   "metadata": {
    "collapsed": false
   },
   "id": "dab85dc807041689"
  },
  {
   "cell_type": "code",
   "execution_count": 47,
   "outputs": [],
   "source": [
    "import sys, os\n",
    "sys.path.append(os.pardir)\n",
    "import numpy as np\n",
    "from Data.common.functions import softmax, cross_entropy_error\n",
    "from Data.common.gradient import numerical_gradient\n",
    "\n",
    "class simpleNet:\n",
    "    def __init__(self):\n",
    "        self.W = np.random.randn(2, 3)\n",
    "        \n",
    "    def predict(self, x):\n",
    "        return np.dot(x, self.W)\n",
    "    \n",
    "    def loss(self, x, t):\n",
    "        z = self.predict(x)\n",
    "        y = softmax(z)\n",
    "        loss = cross_entropy_error(y, t)\n",
    "        \n",
    "        return loss"
   ],
   "metadata": {
    "collapsed": false,
    "ExecuteTime": {
     "end_time": "2025-08-27T01:53:23.225885900Z",
     "start_time": "2025-08-27T01:53:23.165990300Z"
    }
   },
   "id": "645789f1e6571e7"
  },
  {
   "cell_type": "code",
   "execution_count": 48,
   "outputs": [
    {
     "name": "stdout",
     "output_type": "stream",
     "text": [
      "[[ 0.02644858  0.11253931 -0.39941413]\n",
      " [ 1.25478259 -1.07534845  0.71905116]]\n"
     ]
    }
   ],
   "source": [
    "net = simpleNet()\n",
    "print(net.W)"
   ],
   "metadata": {
    "collapsed": false,
    "ExecuteTime": {
     "end_time": "2025-08-27T01:53:23.230644900Z",
     "start_time": "2025-08-27T01:53:23.181311600Z"
    }
   },
   "id": "49d93eed1628002"
  },
  {
   "cell_type": "code",
   "execution_count": 49,
   "outputs": [
    {
     "name": "stdout",
     "output_type": "stream",
     "text": [
      "[ 1.14517348 -0.90029002  0.40749756]\n"
     ]
    }
   ],
   "source": [
    "x = np.array([0.6, 0.9])\n",
    "p = net.predict(x)\n",
    "print(p)"
   ],
   "metadata": {
    "collapsed": false,
    "ExecuteTime": {
     "end_time": "2025-08-27T01:53:23.243654800Z",
     "start_time": "2025-08-27T01:53:23.196785100Z"
    }
   },
   "id": "6c7443a964a66f6b"
  },
  {
   "cell_type": "code",
   "execution_count": 50,
   "outputs": [
    {
     "name": "stdout",
     "output_type": "stream",
     "text": [
      "0\n"
     ]
    }
   ],
   "source": [
    "print(np.argmax(p))"
   ],
   "metadata": {
    "collapsed": false,
    "ExecuteTime": {
     "end_time": "2025-08-27T01:53:23.245654300Z",
     "start_time": "2025-08-27T01:53:23.209390600Z"
    }
   },
   "id": "ac3d0620114a6de4"
  },
  {
   "cell_type": "code",
   "execution_count": 51,
   "outputs": [
    {
     "name": "stdout",
     "output_type": "stream",
     "text": [
      "1.212383312001211\n"
     ]
    }
   ],
   "source": [
    "t = np.array([0, 0, 1])\n",
    "print(net.loss(x, t))"
   ],
   "metadata": {
    "collapsed": false,
    "ExecuteTime": {
     "end_time": "2025-08-27T01:53:23.363234100Z",
     "start_time": "2025-08-27T01:53:23.222885700Z"
    }
   },
   "id": "edbf19a406b9fbed"
  },
  {
   "cell_type": "code",
   "execution_count": 52,
   "outputs": [
    {
     "ename": "IndexError",
     "evalue": "index 2 is out of bounds for axis 0 with size 2",
     "output_type": "error",
     "traceback": [
      "\u001B[31m---------------------------------------------------------------------------\u001B[39m",
      "\u001B[31mIndexError\u001B[39m                                Traceback (most recent call last)",
      "\u001B[36mCell\u001B[39m\u001B[36m \u001B[39m\u001B[32mIn[52]\u001B[39m\u001B[32m, line 7\u001B[39m\n\u001B[32m      4\u001B[39m net = simpleNet()\n\u001B[32m      6\u001B[39m f = \u001B[38;5;28;01mlambda\u001B[39;00m w: net.loss(x, t)\n\u001B[32m----> \u001B[39m\u001B[32m7\u001B[39m dW = numerical_gradient(f, net.W)\n\u001B[32m      9\u001B[39m \u001B[38;5;28mprint\u001B[39m(dW)\n",
      "\u001B[36mFile \u001B[39m\u001B[32m~\\PycharmProjects\\deep-learning\\Data\\common\\gradient.py:8\u001B[39m, in \u001B[36mnumerical_gradient\u001B[39m\u001B[34m(f, x)\u001B[39m\n\u001B[32m      5\u001B[39m h = \u001B[32m1e-4\u001B[39m  \u001B[38;5;66;03m# 0.0001\u001B[39;00m\n\u001B[32m      6\u001B[39m grad = np.zeros_like(x)\n\u001B[32m----> \u001B[39m\u001B[32m8\u001B[39m \u001B[38;5;28;01mfor\u001B[39;00m idx \u001B[38;5;129;01min\u001B[39;00m \u001B[38;5;28mrange\u001B[39m(x.size):\n\u001B[32m      9\u001B[39m     tmp_val = x[idx]\n\u001B[32m     10\u001B[39m     x[idx] = \u001B[38;5;28mfloat\u001B[39m(tmp_val) + h\n",
      "\u001B[31mIndexError\u001B[39m: index 2 is out of bounds for axis 0 with size 2"
     ]
    }
   ],
   "source": [
    "x = np.array([0.6, 0.9])\n",
    "t = np.array([0, 0, 1])\n",
    "\n",
    "net = simpleNet()\n",
    "\n",
    "f = lambda w: net.loss(x, t)\n",
    "dW = numerical_gradient(f, net.W)\n",
    "\n",
    "print(dW)"
   ],
   "metadata": {
    "collapsed": false,
    "ExecuteTime": {
     "end_time": "2025-08-27T01:53:23.401242900Z",
     "start_time": "2025-08-27T01:53:23.238654700Z"
    }
   },
   "id": "80a2eec0f86671da"
  },
  {
   "cell_type": "code",
   "execution_count": null,
   "outputs": [],
   "source": [],
   "metadata": {
    "collapsed": false,
    "ExecuteTime": {
     "start_time": "2025-08-27T01:53:23.316238900Z"
    }
   },
   "id": "5a0d45bf61e9eb7c"
  }
 ],
 "metadata": {
  "kernelspec": {
   "display_name": "Python 3",
   "language": "python",
   "name": "python3"
  },
  "language_info": {
   "codemirror_mode": {
    "name": "ipython",
    "version": 2
   },
   "file_extension": ".py",
   "mimetype": "text/x-python",
   "name": "python",
   "nbconvert_exporter": "python",
   "pygments_lexer": "ipython2",
   "version": "2.7.6"
  }
 },
 "nbformat": 4,
 "nbformat_minor": 5
}
