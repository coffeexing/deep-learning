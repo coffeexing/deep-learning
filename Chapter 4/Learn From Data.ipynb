{
 "cells": [
  {
   "cell_type": "code",
   "source": [
    "import numpy as np"
   ],
   "metadata": {
    "ExecuteTime": {
     "end_time": "2025-08-25T15:25:59.321177Z",
     "start_time": "2025-08-25T15:25:58.962782Z"
    }
   },
   "id": "413ae5d2e2475939",
   "outputs": [],
   "execution_count": 1
  },
  {
   "metadata": {
    "collapsed": false
   },
   "cell_type": "markdown",
   "source": [
    "# Mean Square Error"
   ],
   "id": "71139b5dc38ca251"
  },
  {
   "metadata": {},
   "cell_type": "markdown",
   "source": [
    "$ E=\\frac {1} {2}\\sum _{k} {{({y}_{k}-{t}_{k})}^{2}} $"
   ],
   "id": "80074b53938b38c7"
  },
  {
   "metadata": {
    "collapsed": false,
    "ExecuteTime": {
     "end_time": "2025-08-25T15:26:00.665185Z",
     "start_time": "2025-08-25T15:26:00.660672Z"
    }
   },
   "cell_type": "code",
   "source": [
    "def mean_squared_error(y, t):\n",
    "    \"\"\"\n",
    "    Calculate Mean Squared Error (MSE) loss\n",
    "\n",
    "    Args:\n",
    "        y: predicted values\n",
    "        t: target/true values\n",
    "\n",
    "    Returns:\n",
    "        MSE loss value\n",
    "    \"\"\"\n",
    "    return 0.5 * np.sum((y - t) ** 2)"
   ],
   "id": "4433688c2c91be92",
   "outputs": [],
   "execution_count": 2
  },
  {
   "cell_type": "code",
   "source": [
    "t = [0, 0, 1, 0, 0, 0, 0, 0, 0, 0]  # one-hot code\n",
    "\n",
    "y = [0.1, 0.05, 0.6, 0.0, 0.05, 0.1, 0.0, 0.1, 0.0, 0.0]\n",
    "print(mean_squared_error(np.array(y), np.array(t)))\n",
    "\n",
    "y = [0.1, 0.05, 0.1, 0.0, 0.05, 0.1, 0.0, 0.6, 0.0, 0.0]\n",
    "print(mean_squared_error(np.array(y), np.array(t)))"
   ],
   "metadata": {
    "collapsed": false,
    "ExecuteTime": {
     "end_time": "2025-08-25T15:26:01.592382Z",
     "start_time": "2025-08-25T15:26:01.587927Z"
    }
   },
   "id": "d4752c174273dcec",
   "outputs": [
    {
     "name": "stdout",
     "output_type": "stream",
     "text": [
      "0.09750000000000003\n",
      "0.5975\n"
     ]
    }
   ],
   "execution_count": 3
  },
  {
   "metadata": {},
   "cell_type": "markdown",
   "source": [
    "# Cross-entropy Error"
   ],
   "id": "793a8b94a8a40713"
  },
  {
   "metadata": {},
   "cell_type": "markdown",
   "source": [
    "$ E=-\\sum _{k} {{t}_{k}\\log_{}^{}{y}_{k}} $"
   ],
   "id": "8148e59783c400"
  },
  {
   "metadata": {
    "ExecuteTime": {
     "end_time": "2025-08-25T15:26:01.879786Z",
     "start_time": "2025-08-25T15:26:01.875093Z"
    }
   },
   "cell_type": "code",
   "source": [
    "def cross_entropy_error(y, t):\n",
    "    \"\"\"\n",
    "    Calculate cross-entropy error/loss\n",
    "\n",
    "    Args:\n",
    "        y: predicted probabilities (softmax output)\n",
    "        t: true labels (one-hot encoded)\n",
    "\n",
    "    Returns:\n",
    "        cross-entropy loss value\n",
    "    \"\"\"\n",
    "    delta = 1e-7  # prevent log(0) which causes -inf\n",
    "    return -np.sum(t * np.log(y + delta))"
   ],
   "id": "97bbcf8888a233be",
   "outputs": [],
   "execution_count": 4
  },
  {
   "metadata": {
    "ExecuteTime": {
     "end_time": "2025-08-25T15:26:02.019589Z",
     "start_time": "2025-08-25T15:26:02.014589Z"
    }
   },
   "cell_type": "code",
   "source": [
    "t = [0, 0, 1, 0, 0, 0, 0, 0, 0, 0]  # one-hot code\n",
    "\n",
    "y = [0.1, 0.05, 0.6, 0.0, 0.05, 0.1, 0.0, 0.1, 0.0, 0.0]\n",
    "print(cross_entropy_error(np.array(y), np.array(t)))\n",
    "\n",
    "y = [0.1, 0.05, 0.1, 0.0, 0.05, 0.1, 0.0, 0.6, 0.0, 0.0]\n",
    "print(cross_entropy_error(np.array(y), np.array(t)))"
   ],
   "id": "af92888be002a795",
   "outputs": [
    {
     "name": "stdout",
     "output_type": "stream",
     "text": [
      "0.510825457099338\n",
      "2.302584092994546\n"
     ]
    }
   ],
   "execution_count": 5
  },
  {
   "metadata": {},
   "cell_type": "markdown",
   "source": [
    "# Mini-batch"
   ],
   "id": "afb534c83e4d2b8d"
  },
  {
   "metadata": {},
   "cell_type": "markdown",
   "source": [
    "$ E=-\\frac {1} {N}\\sum _{n}\\sum _{k} {{t}_{nk}}\\log_{}^{} {y}_{nk} $"
   ],
   "id": "c43fe89be159909d"
  },
  {
   "metadata": {},
   "cell_type": "markdown",
   "source": [
    "Read MNIST Dataset"
   ],
   "id": "5259d7ccaa3e0a7e"
  },
  {
   "metadata": {
    "ExecuteTime": {
     "end_time": "2025-08-25T15:44:33.561792Z",
     "start_time": "2025-08-25T15:44:33.463861Z"
    }
   },
   "cell_type": "code",
   "source": [
    "import sys, os\n",
    "sys.path.append(os.pardir)\n",
    "import numpy as np\n",
    "from Data.dataset.mnist import load_mnist\n",
    "\n",
    "(x_train, t_train), (x_test, t_test) = load_mnist(normalize=True, one_hot_label=True)\n",
    "print(x_train.shape)  # (60000, 784)\n",
    "print(t_train.shape)  # (60000, 10)"
   ],
   "id": "1319c7c43d4fb86",
   "outputs": [
    {
     "name": "stdout",
     "output_type": "stream",
     "text": [
      "(60000, 784)\n",
      "(60000, 10)\n"
     ]
    }
   ],
   "execution_count": 7
  },
  {
   "metadata": {},
   "cell_type": "markdown",
   "source": [
    "Random Choice"
   ],
   "id": "f3b2c8f61ae5e511"
  },
  {
   "metadata": {
    "ExecuteTime": {
     "end_time": "2025-08-25T15:44:35.731421Z",
     "start_time": "2025-08-25T15:44:35.728583Z"
    }
   },
   "cell_type": "code",
   "source": [
    "train_size = x_train.shape[0]\n",
    "batch_size = 10\n",
    "batch_mask = np.random.choice(train_size, batch_size)\n",
    "x_batch = x_train[batch_mask]\n",
    "t_batch = t_train[batch_mask]"
   ],
   "id": "9c59a3f478778d30",
   "outputs": [],
   "execution_count": 8
  },
  {
   "metadata": {
    "ExecuteTime": {
     "end_time": "2025-08-25T15:44:12.411719Z",
     "start_time": "2025-08-25T15:44:12.389084Z"
    }
   },
   "cell_type": "code",
   "source": [
    "np.random.choice(60000, 10)"
   ],
   "id": "a9c882cd703c1a5c",
   "outputs": [
    {
     "data": {
      "text/plain": [
       "array([18207, 32570,  2892,  8471, 12501, 47451,  4408, 38121, 32262,\n",
       "       15798], dtype=int32)"
      ]
     },
     "execution_count": 6,
     "metadata": {},
     "output_type": "execute_result"
    }
   ],
   "execution_count": 6
  },
  {
   "metadata": {},
   "cell_type": "markdown",
   "source": [
    "# Mini-batch Cross-entropy Error"
   ],
   "id": "c6fbf13ab1d9b387"
  },
  {
   "metadata": {},
   "cell_type": "markdown",
   "source": [
    "Batch processing"
   ],
   "id": "eeef6bef7a4ede98"
  },
  {
   "metadata": {},
   "cell_type": "code",
   "outputs": [],
   "execution_count": null,
   "source": [
    "def cross_entropy_error_batch(y, t):\n",
    "    \"\"\"\n",
    "    Calculate cross-entropy error for mini-batch\n",
    "\n",
    "    Args:\n",
    "        y: predicted probabilities, shape (batch_size, num_classes) or (num_classes,)\n",
    "        t: true labels (one-hot), shape (batch_size, num_classes) or (num_classes,)\n",
    "\n",
    "    Returns:\n",
    "        Average cross-entropy loss over the batch\n",
    "    \"\"\"\n",
    "    if y.ndim == 1:\n",
    "        t = t.reshape(1, t.size)\n",
    "        y = y.reshape(1, y.size)\n",
    "\n",
    "    batch_size = t.shape[0]\n",
    "    return -np.sum(t * np.log(y + 1e-7)) / batch_size"
   ],
   "id": "4f5dcec383490e6c"
  },
  {
   "metadata": {},
   "cell_type": "markdown",
   "source": [
    "Label Format (Non-one-hot Representation)"
   ],
   "id": "db8daf7ad2864b6b"
  },
  {
   "metadata": {},
   "cell_type": "code",
   "outputs": [],
   "execution_count": null,
   "source": [
    "def cross_entropy_error_label(y, t):\n",
    "    \"\"\"\n",
    "    Calculate cross-entropy error for integer label format (non one-hot)\n",
    "\n",
    "    Args:\n",
    "        y: predicted probabilities, shape (batch_size, num_classes) or (num_classes,)\n",
    "        t: true class indices (integers), shape (batch_size,) or scalar\n",
    "\n",
    "    Returns:\n",
    "        Average cross-entropy loss over the batch\n",
    "    \"\"\"\n",
    "    if y.ndim == 1:\n",
    "        t = t.reshape(1, t.size)\n",
    "        y = y.reshape(1, y.size)\n",
    "\n",
    "    batch_size = t.shape[0]\n",
    "    return -np.sum(np.log(y[np.arange(batch_size), t] + 1e-7)) / batch_size"
   ],
   "id": "c2dfa0dba9172273"
  }
 ],
 "metadata": {
  "kernelspec": {
   "display_name": "Python 3",
   "language": "python",
   "name": "python3"
  },
  "language_info": {
   "codemirror_mode": {
    "name": "ipython",
    "version": 2
   },
   "file_extension": ".py",
   "mimetype": "text/x-python",
   "name": "python",
   "nbconvert_exporter": "python",
   "pygments_lexer": "ipython2",
   "version": "2.7.6"
  }
 },
 "nbformat": 4,
 "nbformat_minor": 5
}
