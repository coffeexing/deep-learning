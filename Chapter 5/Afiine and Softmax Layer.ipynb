{
 "cells": [
  {
   "cell_type": "code",
   "id": "initial_id",
   "metadata": {
    "collapsed": true,
    "ExecuteTime": {
     "end_time": "2025-09-02T11:36:56.294585Z",
     "start_time": "2025-09-02T11:36:56.220688Z"
    }
   },
   "source": "import numpy as np",
   "outputs": [],
   "execution_count": 1
  },
  {
   "metadata": {},
   "cell_type": "markdown",
   "source": "# Affine Layer",
   "id": "e19ed30fe38848ce"
  },
  {
   "metadata": {
    "ExecuteTime": {
     "end_time": "2025-09-02T11:39:03.687415Z",
     "start_time": "2025-09-02T11:39:03.681337Z"
    }
   },
   "cell_type": "code",
   "source": [
    "X = np.random.rand(2)\n",
    "W = np.random.rand(2, 3)\n",
    "B = np.random.rand(3)\n",
    "\n",
    "Y = np.dot(X, W) + B\n",
    "\n",
    "X.shape, W.shape, B.shape, Y"
   ],
   "id": "5490d5492ee76cdc",
   "outputs": [
    {
     "data": {
      "text/plain": [
       "((2,), (2, 3), (3,), array([0.72723501, 1.57103985, 1.64204908]))"
      ]
     },
     "execution_count": 3,
     "metadata": {},
     "output_type": "execute_result"
    }
   ],
   "execution_count": 3
  },
  {
   "metadata": {},
   "cell_type": "markdown",
   "source": "# Affine Layer (Batch)",
   "id": "3aad6c9fdf330f42"
  },
  {
   "metadata": {
    "ExecuteTime": {
     "end_time": "2025-09-02T11:46:30.286109Z",
     "start_time": "2025-09-02T11:46:30.281961Z"
    }
   },
   "cell_type": "code",
   "source": [
    "class AffineBatch:\n",
    "    def __init__(self, W, b):\n",
    "        self.W = W\n",
    "        self.b = b\n",
    "        self.x = None\n",
    "        self.dW = None\n",
    "        self.db = None\n",
    "\n",
    "    def forward(self, x):\n",
    "        self.x = x\n",
    "        out = np.dot(x, self.W) + self.b\n",
    "\n",
    "        return out\n",
    "\n",
    "    def backward(self, dout):\n",
    "        dx = np.dot(dout, self.W.T)\n",
    "        self.dW = np.dot(self.x.T, dout)\n",
    "        self.db = np.sum(dout, axis=0)\n",
    "\n",
    "        return dx"
   ],
   "id": "602df2c954459174",
   "outputs": [],
   "execution_count": 4
  },
  {
   "metadata": {},
   "cell_type": "markdown",
   "source": "# Softmax-with-Loss Layer",
   "id": "4064672dc59efb64"
  },
  {
   "metadata": {
    "ExecuteTime": {
     "end_time": "2025-09-02T11:53:37.337351Z",
     "start_time": "2025-09-02T11:53:37.327807Z"
    }
   },
   "cell_type": "code",
   "source": [
    " from Data.common.functions import softmax, cross_entropy_error\n",
    "\n",
    " class SoftmaxWithLoss:\n",
    "    def __init__(self):\n",
    "        self.loss = None\n",
    "        self.y = None\n",
    "        self.t = None\n",
    "\n",
    "    def forward(self, x, t):\n",
    "        self.t = t\n",
    "        self.y = softmax(x)\n",
    "        self.loss = cross_entropy_error(self.y, self.t)\n",
    "\n",
    "        return self.loss\n",
    "\n",
    "    def backward(self, dout=1):\n",
    "        batch_size = self.t.shape[0]\n",
    "        dx = (self.y - self.t) / batch_size\n",
    "\n",
    "        return dx"
   ],
   "id": "cc2d3f12281df60c",
   "outputs": [],
   "execution_count": 5
  }
 ],
 "metadata": {
  "kernelspec": {
   "display_name": "Python 3",
   "language": "python",
   "name": "python3"
  },
  "language_info": {
   "codemirror_mode": {
    "name": "ipython",
    "version": 2
   },
   "file_extension": ".py",
   "mimetype": "text/x-python",
   "name": "python",
   "nbconvert_exporter": "python",
   "pygments_lexer": "ipython2",
   "version": "2.7.6"
  }
 },
 "nbformat": 4,
 "nbformat_minor": 5
}
