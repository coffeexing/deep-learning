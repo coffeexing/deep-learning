{
 "cells": [
  {
   "cell_type": "markdown",
   "source": [
    "# Multiplication Layer"
   ],
   "metadata": {
    "collapsed": false
   },
   "id": "c5b1987a02c99c07"
  },
  {
   "cell_type": "code",
   "execution_count": 1,
   "outputs": [],
   "source": [
    "class MulLayer:\n",
    "    def __init__(self):\n",
    "        self.x = None\n",
    "        self.y = None\n",
    "        \n",
    "    def forward(self, x, y):\n",
    "        self.x = x\n",
    "        self.y = y\n",
    "        out = x * y\n",
    "        return out\n",
    "    \n",
    "    def backward(self, dout):\n",
    "        dx = dout * self.y\n",
    "        dy = dout * self.x\n",
    "        return dx, dy"
   ],
   "metadata": {
    "collapsed": false,
    "ExecuteTime": {
     "end_time": "2025-08-30T08:50:07.745893700Z",
     "start_time": "2025-08-30T08:50:07.724530700Z"
    }
   },
   "id": "fa3d3980779ff399"
  },
  {
   "cell_type": "markdown",
   "source": [
    "Buy Apple"
   ],
   "metadata": {
    "collapsed": false
   },
   "id": "8db518c65210a75"
  },
  {
   "cell_type": "code",
   "execution_count": 2,
   "outputs": [
    {
     "name": "stdout",
     "output_type": "stream",
     "text": [
      "220.00000000000003\n"
     ]
    }
   ],
   "source": [
    "apple = 100\n",
    "apple_num = 2\n",
    "tax = 1.1\n",
    "\n",
    "# layer\n",
    "mul_apple_layer = MulLayer()\n",
    "mul_tax_layer = MulLayer()\n",
    "\n",
    "# forward\n",
    "apple_price = mul_apple_layer.forward(apple, apple_num)\n",
    "price = mul_tax_layer.forward(apple_price, tax)\n",
    "\n",
    "print(price)"
   ],
   "metadata": {
    "collapsed": false,
    "ExecuteTime": {
     "end_time": "2025-08-30T08:50:07.768618900Z",
     "start_time": "2025-08-30T08:50:07.736888Z"
    }
   },
   "id": "56717033b90aefac"
  },
  {
   "cell_type": "code",
   "execution_count": 4,
   "outputs": [
    {
     "name": "stdout",
     "output_type": "stream",
     "text": [
      "2.2 110.00000000000001 200\n"
     ]
    }
   ],
   "source": [
    "# backward\n",
    "dprice = 1\n",
    "dapple_price, dtax = mul_tax_layer.backward(dprice)\n",
    "dapple, dapple_num = mul_apple_layer.backward(dapple_price)\n",
    "\n",
    "print(dapple, dapple_num, dtax)"
   ],
   "metadata": {
    "collapsed": false,
    "ExecuteTime": {
     "end_time": "2025-08-30T08:52:33.841320800Z",
     "start_time": "2025-08-30T08:52:33.818690600Z"
    }
   },
   "id": "9bcfd0b45e5fdcc8"
  },
  {
   "cell_type": "markdown",
   "source": [
    "# Addition Layer"
   ],
   "metadata": {
    "collapsed": false
   },
   "id": "50756f3aa11b7ab2"
  },
  {
   "cell_type": "code",
   "execution_count": null,
   "outputs": [],
   "source": [
    "class AddLayer:\n",
    "    def __init__(self):\n",
    "        pass\n",
    "    \n",
    "    def forward(self, x, y):\n",
    "        out = x + y\n",
    "        return out\n",
    "    \n",
    "    def backward(self, dout):\n",
    "        dx = dout * 1\n",
    "        dy = dout * 1\n",
    "        return dx, dy"
   ],
   "metadata": {
    "collapsed": false
   },
   "id": "27ad6451e918b4e0"
  },
  {
   "cell_type": "markdown",
   "source": [
    "Buy Apple and Orange"
   ],
   "metadata": {
    "collapsed": false
   },
   "id": "3871338d118f2aca"
  },
  {
   "cell_type": "code",
   "execution_count": null,
   "outputs": [],
   "source": [
    "apple = 100\n",
    "apple_num = 2"
   ],
   "metadata": {
    "collapsed": false
   },
   "id": "bf6be2557ac7514e"
  }
 ],
 "metadata": {
  "kernelspec": {
   "display_name": "Python 3",
   "language": "python",
   "name": "python3"
  },
  "language_info": {
   "codemirror_mode": {
    "name": "ipython",
    "version": 2
   },
   "file_extension": ".py",
   "mimetype": "text/x-python",
   "name": "python",
   "nbconvert_exporter": "python",
   "pygments_lexer": "ipython2",
   "version": "2.7.6"
  }
 },
 "nbformat": 4,
 "nbformat_minor": 5
}
