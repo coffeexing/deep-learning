{
 "cells": [
  {
   "metadata": {},
   "cell_type": "markdown",
   "source": "# ReLU Layer",
   "id": "dc679137cde4d91a"
  },
  {
   "metadata": {
    "ExecuteTime": {
     "end_time": "2025-09-02T11:23:43.250999Z",
     "start_time": "2025-09-02T11:23:43.082624Z"
    }
   },
   "cell_type": "code",
   "source": "import numpy as np",
   "id": "19718b78a0de113e",
   "outputs": [],
   "execution_count": 2
  },
  {
   "metadata": {
    "ExecuteTime": {
     "end_time": "2025-09-02T11:23:44.446314Z",
     "start_time": "2025-09-02T11:23:44.441296Z"
    }
   },
   "cell_type": "code",
   "source": [
    "class Relu:\n",
    "    def __init__(self):\n",
    "        self.mask = None\n",
    "\n",
    "    def forward(self, x):\n",
    "        self.mask = (x <= 0)\n",
    "        out = x.copy()\n",
    "        out[self.mask] = 0\n",
    "\n",
    "        return out\n",
    "\n",
    "    def backward(self, dout):\n",
    "        dout[self.mask] = 0\n",
    "        dx = dout\n",
    "\n",
    "        return dx"
   ],
   "id": "79bbbe96decda4cc",
   "outputs": [],
   "execution_count": 3
  },
  {
   "metadata": {
    "ExecuteTime": {
     "end_time": "2025-09-02T11:24:02.734906Z",
     "start_time": "2025-09-02T11:24:02.731243Z"
    }
   },
   "cell_type": "code",
   "source": [
    "x = np.array( [[1.0, -0.5], [-2.0, 3.0]] )\n",
    "print(x)"
   ],
   "id": "e892633a2f6766f",
   "outputs": [
    {
     "name": "stdout",
     "output_type": "stream",
     "text": [
      "[[ 1.  -0.5]\n",
      " [-2.   3. ]]\n"
     ]
    }
   ],
   "execution_count": 5
  },
  {
   "metadata": {
    "ExecuteTime": {
     "end_time": "2025-09-02T11:24:20.536928Z",
     "start_time": "2025-09-02T11:24:20.532422Z"
    }
   },
   "cell_type": "code",
   "source": [
    "mask = (x <= 0)\n",
    "print(mask)"
   ],
   "id": "3847b1a948373913",
   "outputs": [
    {
     "name": "stdout",
     "output_type": "stream",
     "text": [
      "[[False  True]\n",
      " [ True False]]\n"
     ]
    }
   ],
   "execution_count": 6
  },
  {
   "metadata": {},
   "cell_type": "markdown",
   "source": "# Sigmoid Layer",
   "id": "1246aa4f18c0e8aa"
  },
  {
   "metadata": {
    "ExecuteTime": {
     "end_time": "2025-09-02T11:32:24.324946Z",
     "start_time": "2025-09-02T11:32:24.320659Z"
    }
   },
   "cell_type": "code",
   "source": [
    "class Sigmoid:\n",
    "    def __init__(self):\n",
    "        self.out = None\n",
    "\n",
    "    def forward(self, x):\n",
    "        out = 1 / (1 + np.exp(-x))\n",
    "        self.out = out\n",
    "\n",
    "        return out\n",
    "\n",
    "    def backward(self, dout):\n",
    "        dx = dout * (1.0 - self.out) * self.out\n",
    "\n",
    "        return dx"
   ],
   "id": "ea28bb1b8c18f29d",
   "outputs": [],
   "execution_count": 7
  }
 ],
 "metadata": {
  "kernelspec": {
   "display_name": "Python 3",
   "language": "python",
   "name": "python3"
  },
  "language_info": {
   "codemirror_mode": {
    "name": "ipython",
    "version": 2
   },
   "file_extension": ".py",
   "mimetype": "text/x-python",
   "name": "python",
   "nbconvert_exporter": "python",
   "pygments_lexer": "ipython2",
   "version": "2.7.6"
  }
 },
 "nbformat": 4,
 "nbformat_minor": 5
}
