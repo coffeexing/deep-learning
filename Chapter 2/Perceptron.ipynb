{
 "cells": [
  {
   "cell_type": "markdown",
   "source": [
    "A simple AND Gate, Perceptron"
   ],
   "metadata": {
    "collapsed": false
   },
   "id": "20cccdc4df1782f0"
  },
  {
   "cell_type": "code",
   "execution_count": 1,
   "outputs": [
    {
     "data": {
      "text/plain": "(0, 0, 0, 1)"
     },
     "execution_count": 1,
     "metadata": {},
     "output_type": "execute_result"
    }
   ],
   "source": [
    "def AND(x1, x2):\n",
    "    w1, w2, theta = 0.5, 0.5, 0.7\n",
    "    tmp = x1 * w1 + x2 * w2\n",
    "    if tmp <= theta:\n",
    "        return 0\n",
    "    elif tmp > theta:\n",
    "        return 1\n",
    "\n",
    "AND(0, 1), AND(0, 1), AND(1, 0), AND(1, 1)"
   ],
   "metadata": {
    "collapsed": false,
    "ExecuteTime": {
     "end_time": "2025-05-26T02:02:24.452782500Z",
     "start_time": "2025-05-26T02:02:24.422220900Z"
    }
   },
   "id": "38b15e1ec1715d6f"
  },
  {
   "cell_type": "markdown",
   "source": [
    "Digital logic\n",
    "Has no weights and biases\n",
    "not applicable to a perception"
   ],
   "metadata": {
    "collapsed": false
   },
   "id": "10beef12853dc986"
  },
  {
   "cell_type": "code",
   "execution_count": 2,
   "outputs": [
    {
     "data": {
      "text/plain": "(0, 0, 0, 1)"
     },
     "execution_count": 2,
     "metadata": {},
     "output_type": "execute_result"
    }
   ],
   "source": [
    "def my_and(x1, x2):\n",
    "    if x1 == 1 and x2 == 1:\n",
    "        return 1\n",
    "    else:\n",
    "        return 0\n",
    "\n",
    "my_and(0, 0), my_and(0, 1), my_and(1, 0), my_and(1, 1)"
   ],
   "metadata": {
    "collapsed": false,
    "ExecuteTime": {
     "end_time": "2025-05-26T02:02:24.500744400Z",
     "start_time": "2025-05-26T02:02:24.445759400Z"
    }
   },
   "id": "6c05c822a73ec523"
  },
  {
   "cell_type": "markdown",
   "source": [
    "Import weights and biases"
   ],
   "metadata": {
    "collapsed": false
   },
   "id": "133397e1bedb74fa"
  },
  {
   "cell_type": "code",
   "execution_count": 3,
   "outputs": [],
   "source": [
    "import numpy as np\n",
    "\n",
    "x = np.array([0, 1])        # inputs\n",
    "w = np.array([0.5, 0.5])    # weights\n",
    "b = -0.7                    # biases"
   ],
   "metadata": {
    "collapsed": false,
    "ExecuteTime": {
     "end_time": "2025-05-26T02:02:24.618737100Z",
     "start_time": "2025-05-26T02:02:24.460746400Z"
    }
   },
   "id": "a5a4dddbcd7cb4ee"
  },
  {
   "cell_type": "code",
   "execution_count": 4,
   "outputs": [
    {
     "data": {
      "text/plain": "array([0. , 0.5])"
     },
     "execution_count": 4,
     "metadata": {},
     "output_type": "execute_result"
    }
   ],
   "source": [
    "w * x"
   ],
   "metadata": {
    "collapsed": false,
    "ExecuteTime": {
     "end_time": "2025-05-26T02:02:24.636412Z",
     "start_time": "2025-05-26T02:02:24.622738200Z"
    }
   },
   "id": "8bb4d56630b05c03"
  },
  {
   "cell_type": "code",
   "execution_count": 5,
   "outputs": [
    {
     "data": {
      "text/plain": "np.float64(0.5)"
     },
     "execution_count": 5,
     "metadata": {},
     "output_type": "execute_result"
    }
   ],
   "source": [
    "np.sum(w * x)"
   ],
   "metadata": {
    "collapsed": false,
    "ExecuteTime": {
     "end_time": "2025-05-26T02:02:24.671508600Z",
     "start_time": "2025-05-26T02:02:24.632401500Z"
    }
   },
   "id": "4f498d373a253d13"
  },
  {
   "cell_type": "code",
   "execution_count": 6,
   "outputs": [
    {
     "data": {
      "text/plain": "np.float64(-0.19999999999999996)"
     },
     "execution_count": 6,
     "metadata": {},
     "output_type": "execute_result"
    }
   ],
   "source": [
    "np.sum(w * x) + b"
   ],
   "metadata": {
    "collapsed": false,
    "ExecuteTime": {
     "end_time": "2025-05-26T02:02:24.672510100Z",
     "start_time": "2025-05-26T02:02:24.646541300Z"
    }
   },
   "id": "6f56bc2941d46fed"
  },
  {
   "cell_type": "markdown",
   "source": [
    "The implementation of the AND Gate using numpy"
   ],
   "metadata": {
    "collapsed": false
   },
   "id": "d39bb4683a0230ef"
  },
  {
   "cell_type": "code",
   "execution_count": 7,
   "outputs": [
    {
     "data": {
      "text/plain": "(0, 0, 0, 1)"
     },
     "execution_count": 7,
     "metadata": {},
     "output_type": "execute_result"
    }
   ],
   "source": [
    "def AND_np(x1, x2):\n",
    "    x = np.array([x1, x2])\n",
    "    w = np.array([0.5, 0.5])\n",
    "    b = -0.7\n",
    "    tmp = np.sum(w * x) + b\n",
    "    if tmp <= 0:\n",
    "        return 0\n",
    "    else:\n",
    "        return 1\n",
    "    \n",
    "AND_np(0, 1), AND_np(0, 1), AND_np(1, 0), AND_np(1, 1)"
   ],
   "metadata": {
    "collapsed": false,
    "ExecuteTime": {
     "end_time": "2025-05-26T02:06:49.493573600Z",
     "start_time": "2025-05-26T02:06:49.459765900Z"
    }
   },
   "id": "4d5a230d47a7da32"
  },
  {
   "cell_type": "markdown",
   "source": [
    "The others, such as NAND and OR\n",
    "Biases control the sensitivity and threshold\n",
    "So they are different"
   ],
   "metadata": {
    "collapsed": false
   },
   "id": "7813ae8e378c3e3"
  },
  {
   "cell_type": "code",
   "execution_count": 8,
   "outputs": [
    {
     "data": {
      "text/plain": "(1, 1, 1, 0)"
     },
     "execution_count": 8,
     "metadata": {},
     "output_type": "execute_result"
    }
   ],
   "source": [
    "def NAND(x1, x2):\n",
    "    x = np.array([x1, x2])\n",
    "    w = np.array([-0.5, -0.5])\n",
    "    b = 0.7\n",
    "    tmp = np.sum(w * x) + b\n",
    "    if tmp <= 0:\n",
    "        return 0\n",
    "    else:\n",
    "        return 1\n",
    "\n",
    "NAND(0, 0), NAND(0, 1), NAND(1, 0), NAND(1, 1)    "
   ],
   "metadata": {
    "collapsed": false,
    "ExecuteTime": {
     "end_time": "2025-05-26T02:16:04.210244700Z",
     "start_time": "2025-05-26T02:16:04.191962600Z"
    }
   },
   "id": "4580a102faaaf8de"
  },
  {
   "cell_type": "code",
   "execution_count": 9,
   "outputs": [
    {
     "data": {
      "text/plain": "(0, 1, 1, 1)"
     },
     "execution_count": 9,
     "metadata": {},
     "output_type": "execute_result"
    }
   ],
   "source": [
    "def OR(x1, x2):\n",
    "    x = np.array([x1, x2])\n",
    "    w = np.array([0.5, 0.5])\n",
    "    b = -0.2\n",
    "    tmp = np.sum(w * x) + b\n",
    "    if tmp <= 0:\n",
    "        return 0\n",
    "    else:\n",
    "        return 1\n",
    "    \n",
    "OR(0, 0), OR(0, 1), OR(1, 0), OR(1, 1)"
   ],
   "metadata": {
    "collapsed": false,
    "ExecuteTime": {
     "end_time": "2025-05-26T02:19:37.993488100Z",
     "start_time": "2025-05-26T02:19:37.976689800Z"
    }
   },
   "id": "881dfc8db56c5995"
  },
  {
   "cell_type": "code",
   "execution_count": null,
   "outputs": [],
   "source": [],
   "metadata": {
    "collapsed": false
   },
   "id": "8dfd1905efde0b8c"
  }
 ],
 "metadata": {
  "kernelspec": {
   "display_name": "Python 3",
   "language": "python",
   "name": "python3"
  },
  "language_info": {
   "codemirror_mode": {
    "name": "ipython",
    "version": 2
   },
   "file_extension": ".py",
   "mimetype": "text/x-python",
   "name": "python",
   "nbconvert_exporter": "python",
   "pygments_lexer": "ipython2",
   "version": "2.7.6"
  }
 },
 "nbformat": 4,
 "nbformat_minor": 5
}
