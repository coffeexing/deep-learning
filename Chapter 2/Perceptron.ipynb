{
 "cells": [
  {
   "cell_type": "markdown",
   "source": [
    "A simple AND Gate, Perceptron"
   ],
   "metadata": {
    "collapsed": false
   },
   "id": "20cccdc4df1782f0"
  },
  {
   "cell_type": "code",
   "execution_count": 20,
   "outputs": [
    {
     "data": {
      "text/plain": "(0, 0, 0, 1)"
     },
     "execution_count": 20,
     "metadata": {},
     "output_type": "execute_result"
    }
   ],
   "source": [
    "def AND_linear(x1, x2):\n",
    "    w1, w2, theta = 0.5, 0.5, 0.7\n",
    "    tmp = x1 * w1 + x2 * w2\n",
    "    if tmp <= theta:\n",
    "        return 0\n",
    "    elif tmp > theta:\n",
    "        return 1       \n",
    "\n",
    "AND_linear(0, 1), AND_linear(0, 1), AND_linear(1, 0), AND_linear(1, 1)"
   ],
   "metadata": {
    "collapsed": false,
    "ExecuteTime": {
     "end_time": "2025-05-27T12:01:21.007358800Z",
     "start_time": "2025-05-27T12:01:20.793075100Z"
    }
   },
   "id": "38b15e1ec1715d6f"
  },
  {
   "cell_type": "markdown",
   "source": [
    "Digital logic\n",
    "Has no weights and biases\n",
    "not applicable to a perception"
   ],
   "metadata": {
    "collapsed": false
   },
   "id": "10beef12853dc986"
  },
  {
   "cell_type": "code",
   "execution_count": 21,
   "outputs": [
    {
     "data": {
      "text/plain": "(0, 0, 0, 1)"
     },
     "execution_count": 21,
     "metadata": {},
     "output_type": "execute_result"
    }
   ],
   "source": [
    "def my_and(x1, x2):\n",
    "    if x1 == 1 and x2 == 1:\n",
    "        return 1\n",
    "    else:\n",
    "        return 0\n",
    "\n",
    "my_and(0, 0), my_and(0, 1), my_and(1, 0), my_and(1, 1)"
   ],
   "metadata": {
    "collapsed": false,
    "ExecuteTime": {
     "end_time": "2025-05-27T12:01:21.114223100Z",
     "start_time": "2025-05-27T12:01:21.018359100Z"
    }
   },
   "id": "6c05c822a73ec523"
  },
  {
   "cell_type": "markdown",
   "source": [
    "Import weights and biases"
   ],
   "metadata": {
    "collapsed": false
   },
   "id": "133397e1bedb74fa"
  },
  {
   "cell_type": "code",
   "execution_count": 22,
   "outputs": [],
   "source": [
    "import numpy as np\n",
    "\n",
    "x = np.array([0, 1])        # inputs\n",
    "w = np.array([0.5, 0.5])    # weights\n",
    "b = -0.7                    # biases"
   ],
   "metadata": {
    "collapsed": false,
    "ExecuteTime": {
     "end_time": "2025-05-27T12:01:21.138812700Z",
     "start_time": "2025-05-27T12:01:21.096692500Z"
    }
   },
   "id": "a5a4dddbcd7cb4ee"
  },
  {
   "cell_type": "code",
   "execution_count": 23,
   "outputs": [
    {
     "data": {
      "text/plain": "array([0. , 0.5])"
     },
     "execution_count": 23,
     "metadata": {},
     "output_type": "execute_result"
    }
   ],
   "source": [
    "w * x"
   ],
   "metadata": {
    "collapsed": false,
    "ExecuteTime": {
     "end_time": "2025-05-27T12:01:21.237314100Z",
     "start_time": "2025-05-27T12:01:21.146226100Z"
    }
   },
   "id": "8bb4d56630b05c03"
  },
  {
   "cell_type": "code",
   "execution_count": 24,
   "outputs": [
    {
     "data": {
      "text/plain": "np.float64(0.5)"
     },
     "execution_count": 24,
     "metadata": {},
     "output_type": "execute_result"
    }
   ],
   "source": [
    "np.sum(w * x)"
   ],
   "metadata": {
    "collapsed": false,
    "ExecuteTime": {
     "end_time": "2025-05-27T12:01:21.319076100Z",
     "start_time": "2025-05-27T12:01:21.215831500Z"
    }
   },
   "id": "4f498d373a253d13"
  },
  {
   "cell_type": "code",
   "execution_count": 25,
   "outputs": [
    {
     "data": {
      "text/plain": "np.float64(-0.19999999999999996)"
     },
     "execution_count": 25,
     "metadata": {},
     "output_type": "execute_result"
    }
   ],
   "source": [
    "np.sum(w * x) + b"
   ],
   "metadata": {
    "collapsed": false,
    "ExecuteTime": {
     "end_time": "2025-05-27T12:01:21.387663900Z",
     "start_time": "2025-05-27T12:01:21.300380800Z"
    }
   },
   "id": "6f56bc2941d46fed"
  },
  {
   "cell_type": "markdown",
   "source": [
    "The implementation of the AND Gate using numpy"
   ],
   "metadata": {
    "collapsed": false
   },
   "id": "d39bb4683a0230ef"
  },
  {
   "cell_type": "code",
   "execution_count": 26,
   "outputs": [
    {
     "data": {
      "text/plain": "(0, 0, 0, 1)"
     },
     "execution_count": 26,
     "metadata": {},
     "output_type": "execute_result"
    }
   ],
   "source": [
    "def AND(x1, x2):\n",
    "    x = np.array([x1, x2])\n",
    "    w = np.array([0.5, 0.5])\n",
    "    b = -0.7\n",
    "    tmp = np.sum(w * x) + b\n",
    "    if tmp <= 0:\n",
    "        return 0\n",
    "    else:\n",
    "        return 1\n",
    "    \n",
    "AND(0, 1), AND(0, 1), AND(1, 0), AND(1, 1)"
   ],
   "metadata": {
    "collapsed": false,
    "ExecuteTime": {
     "end_time": "2025-05-27T12:01:21.469784300Z",
     "start_time": "2025-05-27T12:01:21.362155300Z"
    }
   },
   "id": "4d5a230d47a7da32"
  },
  {
   "cell_type": "markdown",
   "source": [
    "The others, such as NAND and OR\n",
    "Biases control the sensitivity and threshold\n",
    "So they are different"
   ],
   "metadata": {
    "collapsed": false
   },
   "id": "7813ae8e378c3e3"
  },
  {
   "cell_type": "code",
   "execution_count": 27,
   "outputs": [
    {
     "data": {
      "text/plain": "(1, 1, 1, 0)"
     },
     "execution_count": 27,
     "metadata": {},
     "output_type": "execute_result"
    }
   ],
   "source": [
    "def NAND(x1, x2):\n",
    "    x = np.array([x1, x2])\n",
    "    w = np.array([-0.5, -0.5])\n",
    "    b = 0.7\n",
    "    tmp = np.sum(w * x) + b\n",
    "    if tmp <= 0:\n",
    "        return 0\n",
    "    else:\n",
    "        return 1\n",
    "\n",
    "NAND(0, 0), NAND(0, 1), NAND(1, 0), NAND(1, 1)    "
   ],
   "metadata": {
    "collapsed": false,
    "ExecuteTime": {
     "end_time": "2025-05-27T12:01:21.536689900Z",
     "start_time": "2025-05-27T12:01:21.454684300Z"
    }
   },
   "id": "4580a102faaaf8de"
  },
  {
   "cell_type": "code",
   "execution_count": 28,
   "outputs": [
    {
     "data": {
      "text/plain": "(0, 1, 1, 1)"
     },
     "execution_count": 28,
     "metadata": {},
     "output_type": "execute_result"
    }
   ],
   "source": [
    "def OR(x1, x2):\n",
    "    x = np.array([x1, x2])\n",
    "    w = np.array([0.5, 0.5])\n",
    "    b = -0.2\n",
    "    tmp = np.sum(w * x) + b\n",
    "    if tmp <= 0:\n",
    "        return 0\n",
    "    else:\n",
    "        return 1\n",
    "    \n",
    "OR(0, 0), OR(0, 1), OR(1, 0), OR(1, 1)"
   ],
   "metadata": {
    "collapsed": false,
    "ExecuteTime": {
     "end_time": "2025-05-27T12:01:21.642843500Z",
     "start_time": "2025-05-27T12:01:21.522782400Z"
    }
   },
   "id": "881dfc8db56c5995"
  },
  {
   "cell_type": "markdown",
   "source": [
    "My XOR Gate"
   ],
   "metadata": {
    "collapsed": false
   },
   "id": "bd4172a9d6c9c49b"
  },
  {
   "cell_type": "code",
   "execution_count": 29,
   "outputs": [
    {
     "data": {
      "text/plain": "(0, 1, 1, 0)"
     },
     "execution_count": 29,
     "metadata": {},
     "output_type": "execute_result"
    }
   ],
   "source": [
    "def my_xor(x1, x2):\n",
    "    w1 = NAND(x1, x2)\n",
    "    w2 = OR(x1, x2)\n",
    "    tmp = AND(w1, w2)\n",
    "    if tmp <= 0:\n",
    "        return 0\n",
    "    else:\n",
    "        return 1\n",
    "    \n",
    "my_xor(0, 0), my_xor(0, 1), my_xor(1, 0), my_xor(1, 1)"
   ],
   "metadata": {
    "collapsed": false,
    "ExecuteTime": {
     "end_time": "2025-05-27T12:01:21.743219400Z",
     "start_time": "2025-05-27T12:01:21.653690600Z"
    }
   },
   "id": "7f403ae29794b21c"
  },
  {
   "cell_type": "markdown",
   "source": [
    "The sample XOR in the book"
   ],
   "metadata": {
    "collapsed": false
   },
   "id": "76290cbdd5c62486"
  },
  {
   "cell_type": "code",
   "execution_count": 30,
   "outputs": [
    {
     "data": {
      "text/plain": "(0, 1, 1, 0)"
     },
     "execution_count": 30,
     "metadata": {},
     "output_type": "execute_result"
    }
   ],
   "source": [
    "def XOR(x1, x2):\n",
    "    s1 = NAND(x1, x2)\n",
    "    s2 = OR(x1, x2)\n",
    "    y = AND(s1, s2)\n",
    "    return y\n",
    "\n",
    "XOR(0, 0), XOR(0, 1), XOR(1, 0), XOR(1, 1)"
   ],
   "metadata": {
    "collapsed": false,
    "ExecuteTime": {
     "end_time": "2025-05-27T12:01:21.747221200Z",
     "start_time": "2025-05-27T12:01:21.690956900Z"
    }
   },
   "id": "8a29ab7d54c0f2d"
  },
  {
   "cell_type": "markdown",
   "source": [
    "This is a sample of multi-layered perceptron\n",
    "Two-layered perceptron "
   ],
   "metadata": {
    "collapsed": false
   },
   "id": "d9a3f8fdbc8e6243"
  }
 ],
 "metadata": {
  "kernelspec": {
   "display_name": "Python 3",
   "language": "python",
   "name": "python3"
  },
  "language_info": {
   "codemirror_mode": {
    "name": "ipython",
    "version": 2
   },
   "file_extension": ".py",
   "mimetype": "text/x-python",
   "name": "python",
   "nbconvert_exporter": "python",
   "pygments_lexer": "ipython2",
   "version": "2.7.6"
  }
 },
 "nbformat": 4,
 "nbformat_minor": 5
}
